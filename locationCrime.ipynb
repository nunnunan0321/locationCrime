{
  "nbformat": 4,
  "nbformat_minor": 0,
  "metadata": {
    "colab": {
      "provenance": []
    },
    "kernelspec": {
      "name": "python3",
      "display_name": "Python 3"
    },
    "language_info": {
      "name": "python"
    }
  },
  "cells": [
    {
      "cell_type": "code",
      "source": [
        "from google.colab import drive\n",
        "drive.mount('/content/drive')"
      ],
      "metadata": {
        "colab": {
          "base_uri": "https://localhost:8080/"
        },
        "id": "sWU1a1BlEUaA",
        "outputId": "00a4d4c5-9771-429f-bf47-ed169cbe734e"
      },
      "execution_count": 1,
      "outputs": [
        {
          "output_type": "stream",
          "name": "stdout",
          "text": [
            "Drive already mounted at /content/drive; to attempt to forcibly remount, call drive.mount(\"/content/drive\", force_remount=True).\n"
          ]
        }
      ]
    },
    {
      "cell_type": "code",
      "source": [
        "!sudo apt-get install -y fonts-nanum\n",
        "!sudo fc-cache -fv\n",
        "!rm ~/.cache/matplotlib -rf"
      ],
      "metadata": {
        "colab": {
          "base_uri": "https://localhost:8080/"
        },
        "id": "pl65pmbdIkIB",
        "outputId": "7b979d34-9bdf-4cc3-9f9c-5cb60ca3b395"
      },
      "execution_count": 2,
      "outputs": [
        {
          "output_type": "stream",
          "name": "stdout",
          "text": [
            "Reading package lists... Done\n",
            "Building dependency tree... Done\n",
            "Reading state information... Done\n",
            "The following NEW packages will be installed:\n",
            "  fonts-nanum\n",
            "0 upgraded, 1 newly installed, 0 to remove and 49 not upgraded.\n",
            "Need to get 10.3 MB of archives.\n",
            "After this operation, 34.1 MB of additional disk space will be used.\n",
            "Get:1 http://archive.ubuntu.com/ubuntu jammy/universe amd64 fonts-nanum all 20200506-1 [10.3 MB]\n",
            "Fetched 10.3 MB in 2s (5,327 kB/s)\n",
            "debconf: unable to initialize frontend: Dialog\n",
            "debconf: (No usable dialog-like program is installed, so the dialog based frontend cannot be used. at /usr/share/perl5/Debconf/FrontEnd/Dialog.pm line 78, <> line 1.)\n",
            "debconf: falling back to frontend: Readline\n",
            "debconf: unable to initialize frontend: Readline\n",
            "debconf: (This frontend requires a controlling tty.)\n",
            "debconf: falling back to frontend: Teletype\n",
            "dpkg-preconfigure: unable to re-open stdin: \n",
            "Selecting previously unselected package fonts-nanum.\n",
            "(Reading database ... 123629 files and directories currently installed.)\n",
            "Preparing to unpack .../fonts-nanum_20200506-1_all.deb ...\n",
            "Unpacking fonts-nanum (20200506-1) ...\n",
            "Setting up fonts-nanum (20200506-1) ...\n",
            "Processing triggers for fontconfig (2.13.1-4.2ubuntu5) ...\n",
            "/usr/share/fonts: caching, new cache contents: 0 fonts, 1 dirs\n",
            "/usr/share/fonts/truetype: caching, new cache contents: 0 fonts, 3 dirs\n",
            "/usr/share/fonts/truetype/humor-sans: caching, new cache contents: 1 fonts, 0 dirs\n",
            "/usr/share/fonts/truetype/liberation: caching, new cache contents: 16 fonts, 0 dirs\n",
            "/usr/share/fonts/truetype/nanum: caching, new cache contents: 12 fonts, 0 dirs\n",
            "/usr/local/share/fonts: caching, new cache contents: 0 fonts, 0 dirs\n",
            "/root/.local/share/fonts: skipping, no such directory\n",
            "/root/.fonts: skipping, no such directory\n",
            "/usr/share/fonts/truetype: skipping, looped directory detected\n",
            "/usr/share/fonts/truetype/humor-sans: skipping, looped directory detected\n",
            "/usr/share/fonts/truetype/liberation: skipping, looped directory detected\n",
            "/usr/share/fonts/truetype/nanum: skipping, looped directory detected\n",
            "/var/cache/fontconfig: cleaning cache directory\n",
            "/root/.cache/fontconfig: not cleaning non-existent cache directory\n",
            "/root/.fontconfig: not cleaning non-existent cache directory\n",
            "fc-cache: succeeded\n"
          ]
        }
      ]
    },
    {
      "cell_type": "code",
      "execution_count": 8,
      "metadata": {
        "colab": {
          "base_uri": "https://localhost:8080/"
        },
        "id": "ySBJ1gjW7KYY",
        "outputId": "33ee4f4d-321d-4a6f-80ec-c5bead1a11fa"
      },
      "outputs": [
        {
          "output_type": "stream",
          "name": "stdout",
          "text": [
            "범죄중분류명 입력: 강도\n",
            "지역명 입력: 서울\n",
            "\n",
            " 서울   강도 118 건\n",
            "\n",
            "  범죄대분류 범죄중분류   서울  부산  대구  인천  광주  대전  울산  세종  ...  경남 밀양  경남 사천  경남 양산  \\\n",
            "2  강력범죄    강도  118  43  31  30  10  17  10   2  ...      1      1      0   \n",
            "\n",
            "   경남 진주  경남 창원  경남 통영  제주 서귀포  제주 제주  기타도시  도시이외  \n",
            "2      0     12      5       1      4     1    28  \n",
            "\n",
            "[1 rows x 89 columns]\n"
          ]
        }
      ],
      "source": [
        "import pandas as pd\n",
        "import matplotlib.pyplot as plt\n",
        "import numpy as np\n",
        "\n",
        "df_crime=pd.read_csv('/content/drive/MyDrive/경찰청_범죄 발생 지역별 통계_20221231.csv',encoding='cp949')\n",
        "\n",
        "#print(df_crime.loc[:,'범죄중분류'])\n",
        "\n",
        "df_crime.shape\n",
        "\n",
        "row=len(df_crime)\n",
        "col=len(df_crime.columns)\n",
        "\n",
        "search=input(\"범죄중분류명 입력: \")\n",
        "location=input(\"지역명 입력: \")\n",
        "# if df_crime.loc[2,'범죄중분류']==search:\n",
        "#   print('same')\n",
        "\n",
        "for i in range(row):\n",
        "  if (df_crime.loc[i,'범죄중분류'])==search:\n",
        "      showData=df_crime.loc[i,location]\n",
        "      print(\"\\n\",location,\" \",search,showData,\"건\\n\")\n",
        "      print(df_crime.loc[[i]])\n",
        "      # print(df_crime.columns)\n",
        "      plt.rc('font\",family')\n",
        "      # plt.bar(df_crime.columns,df_crime.loc[i])\n",
        "      break\n"
      ]
    },
    {
      "cell_type": "markdown",
      "source": [],
      "metadata": {
        "id": "f3Q20p1T7jol"
      }
    },
    {
      "cell_type": "code",
      "source": [],
      "metadata": {
        "id": "u9kq6CtTG6o4"
      },
      "execution_count": null,
      "outputs": []
    }
  ]
}